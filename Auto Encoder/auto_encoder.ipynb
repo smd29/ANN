{
  "nbformat": 4,
  "nbformat_minor": 0,
  "metadata": {
    "colab": {
      "provenance": []
    },
    "kernelspec": {
      "name": "python3",
      "display_name": "Python 3"
    },
    "language_info": {
      "name": "python"
    }
  },
  "cells": [
    {
      "cell_type": "markdown",
      "source": [
        "###Mount Google Drive"
      ],
      "metadata": {
        "id": "8_5vW6bA7p9O"
      }
    },
    {
      "cell_type": "code",
      "source": [
        "from google.colab import drive\n",
        "drive.mount('/content/drive')"
      ],
      "metadata": {
        "colab": {
          "base_uri": "https://localhost:8080/"
        },
        "id": "gG9YZ2o77yHU",
        "outputId": "e614197b-2171-49f5-f20e-bda245722852"
      },
      "execution_count": 1,
      "outputs": [
        {
          "output_type": "stream",
          "name": "stdout",
          "text": [
            "Mounted at /content/drive\n"
          ]
        }
      ]
    },
    {
      "cell_type": "markdown",
      "source": [
        "###Importing Libraries"
      ],
      "metadata": {
        "id": "zKVwTRTZ7E5n"
      }
    },
    {
      "cell_type": "code",
      "execution_count": 2,
      "metadata": {
        "id": "tekF09_c6_Ef"
      },
      "outputs": [],
      "source": [
        "import numpy as np\n",
        "import pandas as pd\n",
        "import torch\n",
        "import torch.nn as nn \n",
        "import torch.optim as optim\n",
        "import torch.nn.parallel\n",
        "import torch.utils.data\n",
        "from torch.autograd import Variable"
      ]
    },
    {
      "cell_type": "markdown",
      "source": [
        "####Importing Dataset"
      ],
      "metadata": {
        "id": "UJ1PEZ1077Fu"
      }
    },
    {
      "cell_type": "code",
      "source": [
        "movies = pd.read_csv('drive/MyDrive/ml-1m/movies.dat', sep = '::', header = None, engine = 'python', encoding= 'latin-1')\n",
        "\n",
        "users = pd.read_csv('drive/MyDrive/ml-1m/users.dat', sep = '::', header = None, engine = 'python', encoding= 'latin-1')\n",
        "\n",
        "ratings = pd.read_csv('drive/MyDrive/ml-1m/ratings.dat', sep = '::', header = None, engine = 'python', encoding= 'latin-1')"
      ],
      "metadata": {
        "id": "sFW8yce07cDR"
      },
      "execution_count": 3,
      "outputs": []
    },
    {
      "cell_type": "markdown",
      "source": [
        "###Preparing the Training and Test Set"
      ],
      "metadata": {
        "id": "_tBP0tIm9BLT"
      }
    },
    {
      "cell_type": "code",
      "source": [
        "training_set = pd.read_csv('drive/MyDrive/ml-100k/u1.base', delimiter = '\\t')\n",
        "training_set = np.array(training_set, dtype = 'int')\n",
        "test_set = pd.read_csv('drive/MyDrive/ml-100k/u1.test', delimiter = '\\t')\n",
        "test_set = np.array(test_set, dtype = 'int')"
      ],
      "metadata": {
        "id": "rWAcpIOz8O9G"
      },
      "execution_count": 4,
      "outputs": []
    },
    {
      "cell_type": "markdown",
      "source": [
        "###Getting the number of users and movies"
      ],
      "metadata": {
        "id": "gPDiH8hx9X3u"
      }
    },
    {
      "cell_type": "code",
      "source": [
        " total_users = int(max(max(training_set[:,0]), max(test_set[:,0])))\n",
        " total_movies = int(max(max(training_set[:,1]), max(test_set[:,1])))\n",
        " print(\"total users: \", total_users)\n",
        " print(\"total movies: \", total_movies)"
      ],
      "metadata": {
        "colab": {
          "base_uri": "https://localhost:8080/"
        },
        "id": "Xd0k8mX39F8M",
        "outputId": "6cc6f030-39cc-44da-ebaf-02dfcdaaf665"
      },
      "execution_count": 5,
      "outputs": [
        {
          "output_type": "stream",
          "name": "stdout",
          "text": [
            "total users:  943\n",
            "total movies:  1682\n"
          ]
        }
      ]
    },
    {
      "cell_type": "markdown",
      "source": [
        "###Converting the data into an array with users in lines and movies in columns"
      ],
      "metadata": {
        "id": "VR1xtcXY-P4v"
      }
    },
    {
      "cell_type": "code",
      "source": [
        "def convert(dataset):\n",
        "  user_movies = []\n",
        "  for user_id in range(1,total_users + 1):\n",
        "    movie_ids = dataset[:,1][dataset[:,0] == user_id]\n",
        "    rating_ids = dataset[:,2][dataset[:,0] == user_id]\n",
        "    rating_list = np.zeros(total_movies)\n",
        "    rating_list[movie_ids - 1] = rating_ids\n",
        "    user_movies.append(list(rating_list))\n",
        "  return user_movies"
      ],
      "metadata": {
        "id": "YRmR71479cja"
      },
      "execution_count": 6,
      "outputs": []
    },
    {
      "cell_type": "code",
      "source": [
        "training_set = convert(training_set)\n",
        "test_set = convert(test_set)"
      ],
      "metadata": {
        "id": "gSDTIN8g-Ua1"
      },
      "execution_count": 7,
      "outputs": []
    },
    {
      "cell_type": "markdown",
      "source": [
        "###Convert the data into Torch tensors"
      ],
      "metadata": {
        "id": "i867Y2iV-8L_"
      }
    },
    {
      "cell_type": "code",
      "source": [
        "training_set = torch.FloatTensor(training_set)\n",
        "test_set = torch.FloatTensor(test_set)"
      ],
      "metadata": {
        "id": "Cs_BMDBi-aR2"
      },
      "execution_count": 8,
      "outputs": []
    },
    {
      "cell_type": "markdown",
      "source": [
        "###Creating the architecture of Neural Network"
      ],
      "metadata": {
        "id": "c-UlAn5TAMIy"
      }
    },
    {
      "cell_type": "code",
      "source": [
        "class AE(nn.Module):\n",
        "  def __init__(self, ):\n",
        "    super(AE, self).__init__()\n",
        "    self.full_connection1 = nn.Linear(total_movies, 20) # 20 nodes in first hidden layer\n",
        "    self.full_connection2 = nn.Linear(20, 10)\n",
        "    self.full_connection3 = nn.Linear(10, 20)\n",
        "    self.full_connection4 = nn.Linear(20, total_movies)\n",
        "    self.activation = nn.Sigmoid()\n",
        "\n",
        "  def forward(self, x):\n",
        "    x = self.activation(self.full_connection1(x))\n",
        "    x = self.activation(self.full_connection2(x))\n",
        "    x = self.activation(self.full_connection3(x))\n",
        "    x = self.full_connection4(x)\n",
        "    return x"
      ],
      "metadata": {
        "id": "cZEwtFGT-_it"
      },
      "execution_count": 15,
      "outputs": []
    },
    {
      "cell_type": "code",
      "source": [
        "ae = AE()\n",
        "criterion = nn.MSELoss()\n",
        "optimizer = optim.RMSprop(ae.parameters(), lr = 0.01, weight_decay = 0.5)"
      ],
      "metadata": {
        "id": "Fo2Hc5UCAQt4"
      },
      "execution_count": 16,
      "outputs": []
    },
    {
      "cell_type": "markdown",
      "source": [
        "###Training the AE"
      ],
      "metadata": {
        "id": "QcleXDQHHaUb"
      }
    },
    {
      "cell_type": "code",
      "source": [
        "epochs = 200 \n",
        "for e in range(1, epochs + 1):\n",
        "  train_loss = 0\n",
        "  counter = 0.\n",
        "  for user_id in range(total_users):\n",
        "    input = Variable(training_set[user_id]).unsqueeze(0)\n",
        "    target = input.clone()\n",
        "    if torch.sum(target.data > 0) > 0:\n",
        "      #atleast one rating which is > 0\n",
        "      predicted_rating = ae(input)\n",
        "      target.required_grad = False\n",
        "      predicted_rating[target == 0] = 0\n",
        "      loss = criterion(predicted_rating, target)\n",
        "      mean_corrector = total_movies / float(torch.sum(target.data > 0) + 1e-10)\n",
        "      loss.backward()\n",
        "      train_loss += np.sqrt(loss.data*mean_corrector)\n",
        "      counter += 1.\n",
        "      optimizer.step()\n",
        "\n",
        "  print('epoch: ' + str(e) + ' loss: ' + str(train_loss/counter))"
      ],
      "metadata": {
        "colab": {
          "base_uri": "https://localhost:8080/"
        },
        "id": "XiCnxCWDGuss",
        "outputId": "efd072bb-cc60-43ce-dc78-8fba74d7f2f4"
      },
      "execution_count": 20,
      "outputs": [
        {
          "output_type": "stream",
          "name": "stdout",
          "text": [
            "epoch: 1 loss: tensor(1.7605)\n",
            "epoch: 2 loss: tensor(1.0963)\n",
            "epoch: 3 loss: tensor(1.0532)\n",
            "epoch: 4 loss: tensor(1.0383)\n",
            "epoch: 5 loss: tensor(1.0311)\n",
            "epoch: 6 loss: tensor(1.0263)\n",
            "epoch: 7 loss: tensor(1.0239)\n",
            "epoch: 8 loss: tensor(1.0221)\n",
            "epoch: 9 loss: tensor(1.0206)\n",
            "epoch: 10 loss: tensor(1.0197)\n",
            "epoch: 11 loss: tensor(1.0189)\n",
            "epoch: 12 loss: tensor(1.0181)\n",
            "epoch: 13 loss: tensor(1.0179)\n",
            "epoch: 14 loss: tensor(1.0177)\n",
            "epoch: 15 loss: tensor(1.0171)\n",
            "epoch: 16 loss: tensor(1.0170)\n",
            "epoch: 17 loss: tensor(1.0166)\n",
            "epoch: 18 loss: tensor(1.0165)\n",
            "epoch: 19 loss: tensor(1.0164)\n",
            "epoch: 20 loss: tensor(1.0161)\n",
            "epoch: 21 loss: tensor(1.0161)\n",
            "epoch: 22 loss: tensor(1.0161)\n",
            "epoch: 23 loss: tensor(1.0159)\n",
            "epoch: 24 loss: tensor(1.0157)\n",
            "epoch: 25 loss: tensor(1.0159)\n",
            "epoch: 26 loss: tensor(1.0156)\n",
            "epoch: 27 loss: tensor(1.0153)\n",
            "epoch: 28 loss: tensor(1.0151)\n",
            "epoch: 29 loss: tensor(1.0131)\n",
            "epoch: 30 loss: tensor(1.0121)\n",
            "epoch: 31 loss: tensor(1.0097)\n",
            "epoch: 32 loss: tensor(1.0100)\n",
            "epoch: 33 loss: tensor(1.0052)\n",
            "epoch: 34 loss: tensor(1.0052)\n",
            "epoch: 35 loss: tensor(1.0015)\n",
            "epoch: 36 loss: tensor(1.0009)\n",
            "epoch: 37 loss: tensor(0.9977)\n",
            "epoch: 38 loss: tensor(0.9962)\n",
            "epoch: 39 loss: tensor(0.9931)\n",
            "epoch: 40 loss: tensor(0.9933)\n",
            "epoch: 41 loss: tensor(0.9907)\n",
            "epoch: 42 loss: tensor(0.9929)\n",
            "epoch: 43 loss: tensor(0.9880)\n",
            "epoch: 44 loss: tensor(0.9914)\n",
            "epoch: 45 loss: tensor(0.9850)\n",
            "epoch: 46 loss: tensor(0.9859)\n",
            "epoch: 47 loss: tensor(0.9851)\n",
            "epoch: 48 loss: tensor(0.9825)\n",
            "epoch: 49 loss: tensor(0.9826)\n",
            "epoch: 50 loss: tensor(0.9833)\n",
            "epoch: 51 loss: tensor(0.9832)\n",
            "epoch: 52 loss: tensor(0.9868)\n",
            "epoch: 53 loss: tensor(0.9765)\n",
            "epoch: 54 loss: tensor(0.9745)\n",
            "epoch: 55 loss: tensor(0.9711)\n",
            "epoch: 56 loss: tensor(0.9752)\n",
            "epoch: 57 loss: tensor(0.9688)\n",
            "epoch: 58 loss: tensor(0.9703)\n",
            "epoch: 59 loss: tensor(0.9743)\n",
            "epoch: 60 loss: tensor(0.9732)\n",
            "epoch: 61 loss: tensor(0.9674)\n",
            "epoch: 62 loss: tensor(0.9715)\n",
            "epoch: 63 loss: tensor(0.9676)\n",
            "epoch: 64 loss: tensor(0.9682)\n",
            "epoch: 65 loss: tensor(0.9679)\n",
            "epoch: 66 loss: tensor(0.9721)\n",
            "epoch: 67 loss: tensor(0.9645)\n",
            "epoch: 68 loss: tensor(0.9631)\n",
            "epoch: 69 loss: tensor(0.9642)\n",
            "epoch: 70 loss: tensor(0.9608)\n",
            "epoch: 71 loss: tensor(0.9588)\n",
            "epoch: 72 loss: tensor(0.9598)\n",
            "epoch: 73 loss: tensor(0.9564)\n",
            "epoch: 74 loss: tensor(0.9604)\n",
            "epoch: 75 loss: tensor(0.9642)\n",
            "epoch: 76 loss: tensor(0.9626)\n",
            "epoch: 77 loss: tensor(0.9590)\n",
            "epoch: 78 loss: tensor(0.9576)\n",
            "epoch: 79 loss: tensor(0.9572)\n",
            "epoch: 80 loss: tensor(0.9561)\n",
            "epoch: 81 loss: tensor(0.9542)\n",
            "epoch: 82 loss: tensor(0.9533)\n",
            "epoch: 83 loss: tensor(0.9492)\n",
            "epoch: 84 loss: tensor(0.9516)\n",
            "epoch: 85 loss: tensor(0.9469)\n",
            "epoch: 86 loss: tensor(0.9503)\n",
            "epoch: 87 loss: tensor(0.9541)\n",
            "epoch: 88 loss: tensor(0.9499)\n",
            "epoch: 89 loss: tensor(0.9485)\n",
            "epoch: 90 loss: tensor(0.9475)\n",
            "epoch: 91 loss: tensor(0.9463)\n",
            "epoch: 92 loss: tensor(0.9476)\n",
            "epoch: 93 loss: tensor(0.9446)\n",
            "epoch: 94 loss: tensor(0.9448)\n",
            "epoch: 95 loss: tensor(0.9423)\n",
            "epoch: 96 loss: tensor(0.9439)\n",
            "epoch: 97 loss: tensor(0.9416)\n",
            "epoch: 98 loss: tensor(0.9430)\n",
            "epoch: 99 loss: tensor(0.9408)\n",
            "epoch: 100 loss: tensor(0.9408)\n",
            "epoch: 101 loss: tensor(0.9389)\n",
            "epoch: 102 loss: tensor(0.9399)\n",
            "epoch: 103 loss: tensor(0.9378)\n",
            "epoch: 104 loss: tensor(0.9386)\n",
            "epoch: 105 loss: tensor(0.9374)\n",
            "epoch: 106 loss: tensor(0.9383)\n",
            "epoch: 107 loss: tensor(0.9361)\n",
            "epoch: 108 loss: tensor(0.9370)\n",
            "epoch: 109 loss: tensor(0.9358)\n",
            "epoch: 110 loss: tensor(0.9351)\n",
            "epoch: 111 loss: tensor(0.9344)\n",
            "epoch: 112 loss: tensor(0.9352)\n",
            "epoch: 113 loss: tensor(0.9332)\n",
            "epoch: 114 loss: tensor(0.9342)\n",
            "epoch: 115 loss: tensor(0.9324)\n",
            "epoch: 116 loss: tensor(0.9332)\n",
            "epoch: 117 loss: tensor(0.9316)\n",
            "epoch: 118 loss: tensor(0.9334)\n",
            "epoch: 119 loss: tensor(0.9311)\n",
            "epoch: 120 loss: tensor(0.9318)\n",
            "epoch: 121 loss: tensor(0.9301)\n",
            "epoch: 122 loss: tensor(0.9309)\n",
            "epoch: 123 loss: tensor(0.9296)\n",
            "epoch: 124 loss: tensor(0.9307)\n",
            "epoch: 125 loss: tensor(0.9294)\n",
            "epoch: 126 loss: tensor(0.9296)\n",
            "epoch: 127 loss: tensor(0.9293)\n",
            "epoch: 128 loss: tensor(0.9303)\n",
            "epoch: 129 loss: tensor(0.9279)\n",
            "epoch: 130 loss: tensor(0.9293)\n",
            "epoch: 131 loss: tensor(0.9277)\n",
            "epoch: 132 loss: tensor(0.9283)\n",
            "epoch: 133 loss: tensor(0.9274)\n",
            "epoch: 134 loss: tensor(0.9278)\n",
            "epoch: 135 loss: tensor(0.9279)\n",
            "epoch: 136 loss: tensor(0.9278)\n",
            "epoch: 137 loss: tensor(0.9262)\n",
            "epoch: 138 loss: tensor(0.9267)\n",
            "epoch: 139 loss: tensor(0.9252)\n",
            "epoch: 140 loss: tensor(0.9257)\n",
            "epoch: 141 loss: tensor(0.9240)\n",
            "epoch: 142 loss: tensor(0.9249)\n",
            "epoch: 143 loss: tensor(0.9235)\n",
            "epoch: 144 loss: tensor(0.9241)\n",
            "epoch: 145 loss: tensor(0.9232)\n",
            "epoch: 146 loss: tensor(0.9258)\n",
            "epoch: 147 loss: tensor(0.9228)\n",
            "epoch: 148 loss: tensor(0.9235)\n",
            "epoch: 149 loss: tensor(0.9226)\n",
            "epoch: 150 loss: tensor(0.9235)\n",
            "epoch: 151 loss: tensor(0.9232)\n",
            "epoch: 152 loss: tensor(0.9238)\n",
            "epoch: 153 loss: tensor(0.9222)\n",
            "epoch: 154 loss: tensor(0.9234)\n",
            "epoch: 155 loss: tensor(0.9217)\n",
            "epoch: 156 loss: tensor(0.9232)\n",
            "epoch: 157 loss: tensor(0.9213)\n",
            "epoch: 158 loss: tensor(0.9222)\n",
            "epoch: 159 loss: tensor(0.9208)\n",
            "epoch: 160 loss: tensor(0.9214)\n",
            "epoch: 161 loss: tensor(0.9204)\n",
            "epoch: 162 loss: tensor(0.9210)\n",
            "epoch: 163 loss: tensor(0.9204)\n",
            "epoch: 164 loss: tensor(0.9212)\n",
            "epoch: 165 loss: tensor(0.9202)\n",
            "epoch: 166 loss: tensor(0.9205)\n",
            "epoch: 167 loss: tensor(0.9197)\n",
            "epoch: 168 loss: tensor(0.9205)\n",
            "epoch: 169 loss: tensor(0.9193)\n",
            "epoch: 170 loss: tensor(0.9200)\n",
            "epoch: 171 loss: tensor(0.9194)\n",
            "epoch: 172 loss: tensor(0.9197)\n",
            "epoch: 173 loss: tensor(0.9187)\n",
            "epoch: 174 loss: tensor(0.9195)\n",
            "epoch: 175 loss: tensor(0.9185)\n",
            "epoch: 176 loss: tensor(0.9189)\n",
            "epoch: 177 loss: tensor(0.9179)\n",
            "epoch: 178 loss: tensor(0.9184)\n",
            "epoch: 179 loss: tensor(0.9181)\n",
            "epoch: 180 loss: tensor(0.9183)\n",
            "epoch: 181 loss: tensor(0.9174)\n",
            "epoch: 182 loss: tensor(0.9178)\n",
            "epoch: 183 loss: tensor(0.9167)\n",
            "epoch: 184 loss: tensor(0.9174)\n",
            "epoch: 185 loss: tensor(0.9167)\n",
            "epoch: 186 loss: tensor(0.9175)\n",
            "epoch: 187 loss: tensor(0.9165)\n",
            "epoch: 188 loss: tensor(0.9175)\n",
            "epoch: 189 loss: tensor(0.9173)\n",
            "epoch: 190 loss: tensor(0.9166)\n",
            "epoch: 191 loss: tensor(0.9158)\n",
            "epoch: 192 loss: tensor(0.9159)\n",
            "epoch: 193 loss: tensor(0.9154)\n",
            "epoch: 194 loss: tensor(0.9164)\n",
            "epoch: 195 loss: tensor(0.9148)\n",
            "epoch: 196 loss: tensor(0.9157)\n",
            "epoch: 197 loss: tensor(0.9148)\n",
            "epoch: 198 loss: tensor(0.9160)\n",
            "epoch: 199 loss: tensor(0.9149)\n",
            "epoch: 200 loss: tensor(0.9154)\n"
          ]
        }
      ]
    },
    {
      "cell_type": "markdown",
      "source": [
        "###Testing the AE"
      ],
      "metadata": {
        "id": "goZOFm9luYZ0"
      }
    },
    {
      "cell_type": "code",
      "source": [
        "test_loss = 0\n",
        "counter = 0.\n",
        "for user_id in range(total_users):\n",
        "  input = Variable(training_set[user_id]).unsqueeze(0)\n",
        "  target = Variable(test_set[user_id]).unsqueeze(0)\n",
        "  if torch.sum(target.data > 0) > 0:\n",
        "    #atleast one rating which is > 0\n",
        "    predicted_rating = ae(input)\n",
        "    target.required_grad = False\n",
        "    predicted_rating[target == 0] = 0\n",
        "    loss = criterion(predicted_rating, target)\n",
        "    mean_corrector = total_movies / float(torch.sum(target.data > 0) + 1e-10)\n",
        "    test_loss += np.sqrt(loss.data*mean_corrector)\n",
        "    counter += 1.\n",
        "\n",
        "print('test loss: ' + str(test_loss/counter))"
      ],
      "metadata": {
        "colab": {
          "base_uri": "https://localhost:8080/"
        },
        "id": "rlcgl6EYnjpO",
        "outputId": "02838a50-7d42-4e78-8454-c0c4efb2cb1a"
      },
      "execution_count": 24,
      "outputs": [
        {
          "output_type": "stream",
          "name": "stdout",
          "text": [
            "test loss: tensor(0.9277)\n"
          ]
        }
      ]
    }
  ]
}